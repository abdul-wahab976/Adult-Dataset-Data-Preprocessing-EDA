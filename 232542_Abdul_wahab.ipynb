{
  "nbformat": 4,
  "nbformat_minor": 0,
  "metadata": {
    "colab": {
      "provenance": []
    },
    "kernelspec": {
      "name": "python3",
      "display_name": "Python 3"
    },
    "language_info": {
      "name": "python"
    }
  },
  "cells": [
    {
      "cell_type": "markdown",
      "source": [
        "##🧩 Step 1: Import Libraries and Load Dataset\n"
      ],
      "metadata": {
        "id": "U-_lKqOOhpSm"
      }
    },
    {
      "cell_type": "code",
      "execution_count": 33,
      "metadata": {
        "id": "79vtu3GJciwg"
      },
      "outputs": [],
      "source": [
        "#Import Libaray:\n",
        "import pandas as pd\n",
        "import numpy as np\n",
        "import matplotlib.pyplot as plt\n",
        "import seaborn as sns\n",
        "from sklearn.impute import KNNImputer\n",
        "from sklearn.preprocessing import MinMaxScaler\n",
        "from scipy.stats import pearsonr, spearmanr, chi2_contingency\n"
      ]
    },
    {
      "cell_type": "code",
      "source": [
        "#Load Dataset:\n",
        "df=pd.read_csv(\"/content/adult.csv\")"
      ],
      "metadata": {
        "id": "ZhvcVt88hLz1"
      },
      "execution_count": 34,
      "outputs": []
    },
    {
      "cell_type": "markdown",
      "source": [
        "##Dataset Description – Adult Income Dataset\n",
        "\n",
        "This dataset contains demographic and work-related information about individuals, used to predict whether a person earns more than or less than $50,000 per year.\n",
        "\n",
        "Each row represents a person’s record, including details such as age, workclass, education, marital status, occupation, relationship, race, gender, hours worked per week, and native country.\n",
        "\n",
        "The target column is income, which has two possible values:\n",
        "\n",
        "- <=50K → person earns less than or equal to $50,000\n",
        "\n",
        "- >50K → person earns more than $50,000\n",
        "\n",
        "This dataset is commonly used for classification tasks in data mining and machine learning to understand how various social and economic factors relate to income levels."
      ],
      "metadata": {
        "id": "5NazGEzghmNn"
      }
    },
    {
      "cell_type": "code",
      "source": [
        "print(df.head())"
      ],
      "metadata": {
        "colab": {
          "base_uri": "https://localhost:8080/"
        },
        "id": "1s5el7vuhXg-",
        "outputId": "85800c5e-7f68-4956-b7ad-b4ebd5c0a24b"
      },
      "execution_count": 35,
      "outputs": [
        {
          "output_type": "stream",
          "name": "stdout",
          "text": [
            "   39          State-gov   77516   Bachelors   13        Never-married  \\\n",
            "0  50   Self-emp-not-inc   83311   Bachelors   13   Married-civ-spouse   \n",
            "1  38            Private  215646     HS-grad    9             Divorced   \n",
            "2  53            Private  234721        11th    7   Married-civ-spouse   \n",
            "3  28            Private  338409   Bachelors   13   Married-civ-spouse   \n",
            "4  37            Private  284582     Masters   14   Married-civ-spouse   \n",
            "\n",
            "         Adm-clerical   Not-in-family   White     Male   2174   0   40  \\\n",
            "0     Exec-managerial         Husband   White     Male      0   0   13   \n",
            "1   Handlers-cleaners   Not-in-family   White     Male      0   0   40   \n",
            "2   Handlers-cleaners         Husband   Black     Male      0   0   40   \n",
            "3      Prof-specialty            Wife   Black   Female      0   0   40   \n",
            "4     Exec-managerial            Wife   White   Female      0   0   40   \n",
            "\n",
            "    United-States   <=50K  \n",
            "0   United-States   <=50K  \n",
            "1   United-States   <=50K  \n",
            "2   United-States   <=50K  \n",
            "3            Cuba   <=50K  \n",
            "4   United-States   <=50K  \n"
          ]
        }
      ]
    },
    {
      "cell_type": "code",
      "source": [
        "print(df.info())"
      ],
      "metadata": {
        "colab": {
          "base_uri": "https://localhost:8080/"
        },
        "id": "Yp5FQPMqiCRx",
        "outputId": "93dd937d-402f-43d6-a882-454946200246"
      },
      "execution_count": 36,
      "outputs": [
        {
          "output_type": "stream",
          "name": "stdout",
          "text": [
            "<class 'pandas.core.frame.DataFrame'>\n",
            "RangeIndex: 32560 entries, 0 to 32559\n",
            "Data columns (total 15 columns):\n",
            " #   Column          Non-Null Count  Dtype \n",
            "---  ------          --------------  ----- \n",
            " 0   39              32560 non-null  int64 \n",
            " 1    State-gov      32560 non-null  object\n",
            " 2    77516          32560 non-null  int64 \n",
            " 3    Bachelors      32560 non-null  object\n",
            " 4    13             32560 non-null  int64 \n",
            " 5    Never-married  32560 non-null  object\n",
            " 6    Adm-clerical   32560 non-null  object\n",
            " 7    Not-in-family  32560 non-null  object\n",
            " 8    White          32560 non-null  object\n",
            " 9    Male           32560 non-null  object\n",
            " 10   2174           32560 non-null  int64 \n",
            " 11   0              32560 non-null  int64 \n",
            " 12   40             32560 non-null  int64 \n",
            " 13   United-States  32560 non-null  object\n",
            " 14   <=50K          32560 non-null  object\n",
            "dtypes: int64(6), object(9)\n",
            "memory usage: 3.7+ MB\n",
            "None\n"
          ]
        }
      ]
    },
    {
      "cell_type": "code",
      "source": [
        "# Check total missing values in each column\n",
        "print(\"\\nMissing values count:\")\n",
        "print(df.isnull().sum())"
      ],
      "metadata": {
        "colab": {
          "base_uri": "https://localhost:8080/"
        },
        "id": "0olhWIUiicVI",
        "outputId": "e2c699e2-8d9d-4a24-d7e5-32ef544521e0"
      },
      "execution_count": 37,
      "outputs": [
        {
          "output_type": "stream",
          "name": "stdout",
          "text": [
            "\n",
            "Missing values count:\n",
            "39                0\n",
            " State-gov        0\n",
            " 77516            0\n",
            " Bachelors        0\n",
            " 13               0\n",
            " Never-married    0\n",
            " Adm-clerical     0\n",
            " Not-in-family    0\n",
            " White            0\n",
            " Male             0\n",
            " 2174             0\n",
            " 0                0\n",
            " 40               0\n",
            " United-States    0\n",
            " <=50K            0\n",
            "dtype: int64\n"
          ]
        }
      ]
    },
    {
      "cell_type": "code",
      "source": [
        "# So we also check for '?' values\n",
        "print(\"\\nCount of '?' values in each column:\")\n",
        "print((df == '?').sum())"
      ],
      "metadata": {
        "colab": {
          "base_uri": "https://localhost:8080/"
        },
        "id": "6gij68tOi40F",
        "outputId": "3b8d362d-965f-4aa3-edef-966b42564c48"
      },
      "execution_count": 38,
      "outputs": [
        {
          "output_type": "stream",
          "name": "stdout",
          "text": [
            "\n",
            "Count of '?' values in each column:\n",
            "39                0\n",
            " State-gov        0\n",
            " 77516            0\n",
            " Bachelors        0\n",
            " 13               0\n",
            " Never-married    0\n",
            " Adm-clerical     0\n",
            " Not-in-family    0\n",
            " White            0\n",
            " Male             0\n",
            " 2174             0\n",
            " 0                0\n",
            " 40               0\n",
            " United-States    0\n",
            " <=50K            0\n",
            "dtype: int64\n"
          ]
        }
      ]
    },
    {
      "cell_type": "code",
      "source": [
        "print(df.describe())"
      ],
      "metadata": {
        "colab": {
          "base_uri": "https://localhost:8080/"
        },
        "id": "lgyjuOsbj5yY",
        "outputId": "27cb8f99-8985-4c20-b401-dba33c773071"
      },
      "execution_count": 39,
      "outputs": [
        {
          "output_type": "stream",
          "name": "stdout",
          "text": [
            "                 39         77516            13          2174             0  \\\n",
            "count  32560.000000  3.256000e+04  32560.000000  32560.000000  32560.000000   \n",
            "mean      38.581634  1.897818e+05     10.080590   1077.615172     87.306511   \n",
            "std       13.640642  1.055498e+05      2.572709   7385.402999    402.966116   \n",
            "min       17.000000  1.228500e+04      1.000000      0.000000      0.000000   \n",
            "25%       28.000000  1.178315e+05      9.000000      0.000000      0.000000   \n",
            "50%       37.000000  1.783630e+05     10.000000      0.000000      0.000000   \n",
            "75%       48.000000  2.370545e+05     12.000000      0.000000      0.000000   \n",
            "max       90.000000  1.484705e+06     16.000000  99999.000000   4356.000000   \n",
            "\n",
            "                 40  \n",
            "count  32560.000000  \n",
            "mean      40.437469  \n",
            "std       12.347618  \n",
            "min        1.000000  \n",
            "25%       40.000000  \n",
            "50%       40.000000  \n",
            "75%       45.000000  \n",
            "max       99.000000  \n"
          ]
        }
      ]
    },
    {
      "cell_type": "markdown",
      "source": [
        "##⚙️ Step 3: Handle Numerical Columns (KNN Imputation for 0 values)"
      ],
      "metadata": {
        "id": "PjrG15-ylkNm"
      }
    },
    {
      "cell_type": "code",
      "source": [
        "# Remove extra spaces from column names\n",
        "df.columns = df.columns.str.strip()\n",
        "df[['2174', '0']] = df[['2174', '0']].replace(0, np.nan)\n",
        "imputer = KNNImputer(n_neighbors=3)\n",
        "df[['2174', '0']] = imputer.fit_transform(df[['2174', '0']])\n",
        "print(\"\\nAfter KNN Imputation:\")\n",
        "print(df[numeric_cols].head())"
      ],
      "metadata": {
        "colab": {
          "base_uri": "https://localhost:8080/"
        },
        "id": "okpfNfFyld3l",
        "outputId": "91161a91-850c-4de9-df2f-26945c06d7ab"
      },
      "execution_count": 40,
      "outputs": [
        {
          "output_type": "stream",
          "name": "stdout",
          "text": [
            "\n",
            "After KNN Imputation:\n",
            "           2174            0\n",
            "0  12942.511988  1871.428571\n",
            "1  12942.511988  1871.428571\n",
            "2  12942.511988  1871.428571\n",
            "3  12942.511988  1871.428571\n",
            "4  12942.511988  1871.428571\n"
          ]
        }
      ]
    },
    {
      "cell_type": "markdown",
      "source": [
        "##🧼 Step 2: Handle Missing Values (‘?’ marks in categorical columns)"
      ],
      "metadata": {
        "id": "gvwi4uR-oXwH"
      }
    },
    {
      "cell_type": "markdown",
      "source": [
        "In this dataset, the numeric columns containing 0 values (representing missing data) were handled using KNN Imputation, which replaces missing values with estimated ones based on similar records, ensuring data consistency and accuracy."
      ],
      "metadata": {
        "id": "gyjVcG_8m3kQ"
      }
    },
    {
      "cell_type": "code",
      "source": [
        "# Remove extra spaces in column names\n",
        "df.columns = df.columns.str.strip()\n",
        "\n",
        "# Replace '?' with NaN\n",
        "df.replace('?', np.nan, inplace=True)\n",
        "\n",
        "# Fill missing categorical values with mode (most frequent value)\n",
        "for col in df.select_dtypes(include='object').columns:\n",
        "    df[col].fillna(df[col].mode()[0], inplace=True)\n",
        "\n",
        "# Check if any missing values left\n",
        "print(df.isnull().sum())\n",
        "\n",
        "# Show first few rows\n",
        "print(df.head())"
      ],
      "metadata": {
        "colab": {
          "base_uri": "https://localhost:8080/"
        },
        "id": "zqvmE6oflPuU",
        "outputId": "eba8ddd4-ea26-4423-f6c4-06048211c974"
      },
      "execution_count": 41,
      "outputs": [
        {
          "output_type": "stream",
          "name": "stdout",
          "text": [
            "39               0\n",
            "State-gov        0\n",
            "77516            0\n",
            "Bachelors        0\n",
            "13               0\n",
            "Never-married    0\n",
            "Adm-clerical     0\n",
            "Not-in-family    0\n",
            "White            0\n",
            "Male             0\n",
            "2174             0\n",
            "0                0\n",
            "40               0\n",
            "United-States    0\n",
            "<=50K            0\n",
            "dtype: int64\n",
            "   39          State-gov   77516   Bachelors  13        Never-married  \\\n",
            "0  50   Self-emp-not-inc   83311   Bachelors  13   Married-civ-spouse   \n",
            "1  38            Private  215646     HS-grad   9             Divorced   \n",
            "2  53            Private  234721        11th   7   Married-civ-spouse   \n",
            "3  28            Private  338409   Bachelors  13   Married-civ-spouse   \n",
            "4  37            Private  284582     Masters  14   Married-civ-spouse   \n",
            "\n",
            "         Adm-clerical   Not-in-family   White     Male          2174  \\\n",
            "0     Exec-managerial         Husband   White     Male  12942.511988   \n",
            "1   Handlers-cleaners   Not-in-family   White     Male  12942.511988   \n",
            "2   Handlers-cleaners         Husband   Black     Male  12942.511988   \n",
            "3      Prof-specialty            Wife   Black   Female  12942.511988   \n",
            "4     Exec-managerial            Wife   White   Female  12942.511988   \n",
            "\n",
            "             0  40   United-States   <=50K  \n",
            "0  1871.428571  13   United-States   <=50K  \n",
            "1  1871.428571  40   United-States   <=50K  \n",
            "2  1871.428571  40   United-States   <=50K  \n",
            "3  1871.428571  40            Cuba   <=50K  \n",
            "4  1871.428571  40   United-States   <=50K  \n"
          ]
        },
        {
          "output_type": "stream",
          "name": "stderr",
          "text": [
            "/tmp/ipython-input-1144041794.py:9: FutureWarning: A value is trying to be set on a copy of a DataFrame or Series through chained assignment using an inplace method.\n",
            "The behavior will change in pandas 3.0. This inplace method will never work because the intermediate object on which we are setting values always behaves as a copy.\n",
            "\n",
            "For example, when doing 'df[col].method(value, inplace=True)', try using 'df.method({col: value}, inplace=True)' or df[col] = df[col].method(value) instead, to perform the operation inplace on the original object.\n",
            "\n",
            "\n",
            "  df[col].fillna(df[col].mode()[0], inplace=True)\n"
          ]
        }
      ]
    },
    {
      "cell_type": "markdown",
      "source": [
        "##Detect Noise in Numerical Columns"
      ],
      "metadata": {
        "id": "Y3nNi679rld8"
      }
    },
    {
      "cell_type": "code",
      "source": [
        "# Detect noise (outliers) using IQR\n",
        "import numpy as np\n",
        "\n",
        "def detect_outliers_iqr(data, col):\n",
        "    Q1 = data[col].quantile(0.25)\n",
        "    Q3 = data[col].quantile(0.75)\n",
        "    IQR = Q3 - Q1\n",
        "    lower = Q1 - 1.5 * IQR\n",
        "    upper = Q3 + 1.5 * IQR\n",
        "    outliers = data[(data[col] < lower) | (data[col] > upper)]\n",
        "    return outliers\n",
        "\n",
        "# Example for numeric columns\n",
        "for col in df.select_dtypes(include=np.number).columns:\n",
        "    outliers = detect_outliers_iqr(df, col)\n",
        "    print(f\"{col}: {len(outliers)} noisy values detected.\")\n"
      ],
      "metadata": {
        "colab": {
          "base_uri": "https://localhost:8080/"
        },
        "id": "vGwGTQDFroRs",
        "outputId": "94efb64c-da45-4df7-e306-2eebbf870296"
      },
      "execution_count": 42,
      "outputs": [
        {
          "output_type": "stream",
          "name": "stdout",
          "text": [
            "39: 143 noisy values detected.\n",
            "77516: 992 noisy values detected.\n",
            "13: 1198 noisy values detected.\n",
            "2174: 2711 noisy values detected.\n",
            "0: 1519 noisy values detected.\n",
            "40: 9008 noisy values detected.\n"
          ]
        }
      ]
    },
    {
      "cell_type": "markdown",
      "source": [
        "In the categorical columns, the missing values represented by ‘?’ were first replaced with NaN to mark them as missing data. Then, these missing values were filled using the mode imputation technique, which replaces them with the most frequent category in each column."
      ],
      "metadata": {
        "id": "PcRwQ_WAnP7t"
      }
    },
    {
      "cell_type": "markdown",
      "source": [
        "##📊 Step 4: Data Description (Numerical Summary)"
      ],
      "metadata": {
        "id": "pjXIZWzipLgW"
      }
    },
    {
      "cell_type": "markdown",
      "source": [
        "###Separate numerical and categorical columns"
      ],
      "metadata": {
        "id": "QfbKw71HpRlu"
      }
    },
    {
      "cell_type": "code",
      "source": [
        "# Separate numerical and categorical columns\n",
        "num_cols = df.select_dtypes(include=np.number).columns\n",
        "cat_cols = df.select_dtypes(include='object').columns\n",
        "\n",
        "print(\"Numerical Columns:\", num_cols.tolist())\n",
        "print(\"Categorical Columns:\", cat_cols.tolist())\n"
      ],
      "metadata": {
        "colab": {
          "base_uri": "https://localhost:8080/"
        },
        "id": "bfrT_5KkqevG",
        "outputId": "006511a3-58a0-4d36-9ea7-52361a3eebf7"
      },
      "execution_count": 43,
      "outputs": [
        {
          "output_type": "stream",
          "name": "stdout",
          "text": [
            "Numerical Columns: ['39', '77516', '13', '2174', '0', '40']\n",
            "Categorical Columns: ['State-gov', 'Bachelors', 'Never-married', 'Adm-clerical', 'Not-in-family', 'White', 'Male', 'United-States', '<=50K']\n"
          ]
        }
      ]
    },
    {
      "cell_type": "markdown",
      "source": [
        "##Numerical ↔ Numerical Relationship"
      ],
      "metadata": {
        "id": "RWBWzikAqkpH"
      }
    },
    {
      "cell_type": "code",
      "source": [
        "# Pearson Correlation (linear)\n",
        "print(\"\\n Pearson Correlation:\")\n",
        "print(df[num_cols].corr(method='pearson'))\n",
        "\n",
        "# Spearman Correlation (rank-based)\n",
        "print(\"\\n Spearman Correlation:\")\n",
        "print(df[num_cols].corr(method='spearman'))\n",
        "\n",
        "# Heatmap for visual understanding\n",
        "plt.figure(figsize=(10,6))\n",
        "sns.heatmap(df[num_cols].corr(method='pearson'), annot=True, cmap='coolwarm')\n",
        "plt.title(\"Numerical vs Numerical (Pearson Correlation)\")\n",
        "plt.show()\n"
      ],
      "metadata": {
        "colab": {
          "base_uri": "https://localhost:8080/",
          "height": 857
        },
        "id": "K7CDrirSqmY_",
        "outputId": "40064ee2-c6e9-4c7e-c7f5-35fc3dac4d7c"
      },
      "execution_count": 44,
      "outputs": [
        {
          "output_type": "stream",
          "name": "stdout",
          "text": [
            "\n",
            " Pearson Correlation:\n",
            "             39     77516        13          2174             0        40\n",
            "39     1.000000 -0.076646  0.036527  2.230918e-02  4.102247e-02  0.068756\n",
            "77516 -0.076646  1.000000 -0.043159  3.122720e-03 -7.210948e-03 -0.018770\n",
            "13     0.036527 -0.043159  1.000000  7.632027e-02  2.531356e-02  0.148127\n",
            "2174   0.022309  0.003123  0.076320  1.000000e+00 -2.044732e-16  0.048093\n",
            "0      0.041022 -0.007211  0.025314 -2.044732e-16  1.000000e+00  0.024061\n",
            "40     0.068756 -0.018770  0.148127  4.809342e-02  2.406071e-02  1.000000\n",
            "\n",
            " Spearman Correlation:\n",
            "             39     77516        13      2174         0        40\n",
            "39     1.000000 -0.078137  0.066337 -0.023413  0.059650  0.142910\n",
            "77516 -0.078137  1.000000 -0.035660  0.002561 -0.011482 -0.021626\n",
            "13     0.066337 -0.035660  1.000000  0.034800  0.064896  0.167221\n",
            "2174  -0.023413  0.002561  0.034800  1.000000  0.007358  0.011115\n",
            "0      0.059650 -0.011482  0.064896  0.007358  1.000000  0.054021\n",
            "40     0.142910 -0.021626  0.167221  0.011115  0.054021  1.000000\n"
          ]
        },
        {
          "output_type": "display_data",
          "data": {
            "text/plain": [
              "<Figure size 1000x600 with 2 Axes>"
            ],
            "image/png": "[encoded data removed]"
          },
          "metadata": {}
        }
      ]
    },
    {
      "cell_type": "markdown",
      "source": [
        "##Categorical ↔ Categorical Relationship"
      ],
      "metadata": {
        "id": "mcaK-u61qvOo"
      }
    },
    {
      "cell_type": "code",
      "source": [
        "from sklearn.preprocessing import LabelEncoder\n",
        "import scipy.stats as stats\n",
        "\n",
        "def cramers_v(x, y):\n",
        "    confusion_matrix = pd.crosstab(x, y)\n",
        "    chi2 = chi2_contingency(confusion_matrix)[0]\n",
        "    n = confusion_matrix.sum().sum()\n",
        "    r, k = confusion_matrix.shape\n",
        "    return np.sqrt(chi2 / (n * (min(k, r) - 1)))\n",
        "\n",
        "# Calculate relationship between categorical columns\n",
        "print(\"\\n Categorical vs Categorical Relationship (Cramer's V):\")\n",
        "for col1 in cat_cols:\n",
        "    for col2 in cat_cols:\n",
        "        if col1 != col2:\n",
        "            cv = cramers_v(df[col1], df[col2])\n",
        "            print(f\"{col1} ↔ {col2} : {cv:.3f}\")\n"
      ],
      "metadata": {
        "colab": {
          "base_uri": "https://localhost:8080/"
        },
        "id": "spjxPnUxqx9g",
        "outputId": "6cc288a8-76cc-4a83-87df-bc666b2139e9"
      },
      "execution_count": 45,
      "outputs": [
        {
          "output_type": "stream",
          "name": "stdout",
          "text": [
            "\n",
            " Categorical vs Categorical Relationship (Cramer's V):\n",
            "State-gov ↔ Bachelors : 0.099\n",
            "State-gov ↔ Never-married : 0.085\n",
            "State-gov ↔ Adm-clerical : 0.400\n",
            "State-gov ↔ Not-in-family : 0.099\n",
            "State-gov ↔ White : 0.056\n",
            "State-gov ↔ Male : 0.154\n",
            "State-gov ↔ United-States : 0.046\n",
            "State-gov ↔ <=50K : 0.179\n",
            "Bachelors ↔ State-gov : 0.099\n",
            "Bachelors ↔ Never-married : 0.092\n",
            "Bachelors ↔ Adm-clerical : 0.187\n",
            "Bachelors ↔ Not-in-family : 0.123\n",
            "Bachelors ↔ White : 0.075\n",
            "Bachelors ↔ Male : 0.096\n",
            "Bachelors ↔ United-States : 0.133\n",
            "Bachelors ↔ <=50K : 0.369\n",
            "Never-married ↔ State-gov : 0.085\n",
            "Never-married ↔ Bachelors : 0.092\n",
            "Never-married ↔ Adm-clerical : 0.133\n",
            "Never-married ↔ Not-in-family : 0.488\n",
            "Never-married ↔ White : 0.084\n",
            "Never-married ↔ Male : 0.462\n",
            "Never-married ↔ United-States : 0.073\n",
            "Never-married ↔ <=50K : 0.447\n",
            "Adm-clerical ↔ State-gov : 0.400\n",
            "Adm-clerical ↔ Bachelors : 0.187\n",
            "Adm-clerical ↔ Never-married : 0.133\n",
            "Adm-clerical ↔ Not-in-family : 0.179\n",
            "Adm-clerical ↔ White : 0.081\n",
            "Adm-clerical ↔ Male : 0.424\n",
            "Adm-clerical ↔ United-States : 0.073\n",
            "Adm-clerical ↔ <=50K : 0.352\n",
            "Not-in-family ↔ State-gov : 0.099\n",
            "Not-in-family ↔ Bachelors : 0.123\n",
            "Not-in-family ↔ Never-married : 0.488\n",
            "Not-in-family ↔ Adm-clerical : 0.179\n",
            "Not-in-family ↔ White : 0.098\n",
            "Not-in-family ↔ Male : 0.649\n",
            "Not-in-family ↔ United-States : 0.085\n",
            "Not-in-family ↔ <=50K : 0.454\n",
            "White ↔ State-gov : 0.056\n",
            "White ↔ Bachelors : 0.075\n",
            "White ↔ Never-married : 0.084\n",
            "White ↔ Adm-clerical : 0.081\n",
            "White ↔ Not-in-family : 0.098\n",
            "White ↔ Male : 0.118\n",
            "White ↔ United-States : 0.409\n",
            "White ↔ <=50K : 0.101\n",
            "Male ↔ State-gov : 0.154\n",
            "Male ↔ Bachelors : 0.096\n",
            "Male ↔ Never-married : 0.462\n",
            "Male ↔ Adm-clerical : 0.424\n",
            "Male ↔ Not-in-family : 0.649\n",
            "Male ↔ White : 0.118\n",
            "Male ↔ United-States : 0.067\n",
            "Male ↔ <=50K : 0.216\n",
            "United-States ↔ State-gov : 0.046\n",
            "United-States ↔ Bachelors : 0.133\n",
            "United-States ↔ Never-married : 0.073\n",
            "United-States ↔ Adm-clerical : 0.073\n",
            "United-States ↔ Not-in-family : 0.085\n",
            "United-States ↔ White : 0.409\n",
            "United-States ↔ Male : 0.067\n",
            "United-States ↔ <=50K : 0.099\n",
            "<=50K ↔ State-gov : 0.179\n",
            "<=50K ↔ Bachelors : 0.369\n",
            "<=50K ↔ Never-married : 0.447\n",
            "<=50K ↔ Adm-clerical : 0.352\n",
            "<=50K ↔ Not-in-family : 0.454\n",
            "<=50K ↔ White : 0.101\n",
            "<=50K ↔ Male : 0.216\n",
            "<=50K ↔ United-States : 0.099\n"
          ]
        }
      ]
    },
    {
      "cell_type": "markdown",
      "source": [
        "##Numerical ↔ Categorical Relationship"
      ],
      "metadata": {
        "id": "iVWpL_6dq5s4"
      }
    },
    {
      "cell_type": "code",
      "source": [
        "from scipy.stats import f_oneway, ttest_ind\n",
        "\n",
        "print(\"\\n Numerical vs Categorical Relationship:\")\n",
        "\n",
        "for num in num_cols:\n",
        "    for cat in cat_cols:\n",
        "        if df[cat].nunique() == 2:  # binary categorical\n",
        "            groups = df.groupby(cat)[num].apply(list)\n",
        "            t_stat, p_val = ttest_ind(groups.iloc[0], groups.iloc[1], equal_var=False)\n",
        "            print(f\"{num} ↔ {cat} (T-test): p-value = {p_val:.4f}\")\n",
        "        elif df[cat].nunique() > 2:  # multiple categories\n",
        "            groups = [vals for name, vals in df.groupby(cat)[num]]\n",
        "            f_stat, p_val = f_oneway(*groups)\n",
        "            print(f\"{num} ↔ {cat} (ANOVA): p-value = {p_val:.4f}\")\n"
      ],
      "metadata": {
        "colab": {
          "base_uri": "https://localhost:8080/"
        },
        "id": "Do8sV9iZq7wo",
        "outputId": "64b8546d-a154-49c1-c526-cd2bcc3c936a"
      },
      "execution_count": 46,
      "outputs": [
        {
          "output_type": "stream",
          "name": "stdout",
          "text": [
            "\n",
            " Numerical vs Categorical Relationship:\n",
            "39 ↔ State-gov (ANOVA): p-value = 0.0000\n",
            "39 ↔ Bachelors (ANOVA): p-value = 0.0000\n",
            "39 ↔ Never-married (ANOVA): p-value = 0.0000\n",
            "39 ↔ Adm-clerical (ANOVA): p-value = 0.0000\n",
            "39 ↔ Not-in-family (ANOVA): p-value = 0.0000\n",
            "39 ↔ White (ANOVA): p-value = 0.0000\n",
            "39 ↔ Male (T-test): p-value = 0.0000\n",
            "39 ↔ United-States (ANOVA): p-value = 0.0000\n",
            "39 ↔ <=50K (T-test): p-value = 0.0000\n",
            "77516 ↔ State-gov (ANOVA): p-value = 0.0000\n",
            "77516 ↔ Bachelors (ANOVA): p-value = 0.0000\n",
            "77516 ↔ Never-married (ANOVA): p-value = 0.0000\n",
            "77516 ↔ Adm-clerical (ANOVA): p-value = 0.0000\n",
            "77516 ↔ Not-in-family (ANOVA): p-value = 0.0000\n",
            "77516 ↔ White (ANOVA): p-value = 0.0000\n",
            "77516 ↔ Male (T-test): p-value = 0.0000\n",
            "77516 ↔ United-States (ANOVA): p-value = 0.0000\n",
            "77516 ↔ <=50K (T-test): p-value = 0.0811\n",
            "13 ↔ State-gov (ANOVA): p-value = 0.0000\n",
            "13 ↔ Bachelors (ANOVA): p-value = 0.0000\n",
            "13 ↔ Never-married (ANOVA): p-value = 0.0000\n",
            "13 ↔ Adm-clerical (ANOVA): p-value = 0.0000\n",
            "13 ↔ Not-in-family (ANOVA): p-value = 0.0000\n",
            "13 ↔ White (ANOVA): p-value = 0.0000\n",
            "13 ↔ Male (T-test): p-value = 0.0216\n",
            "13 ↔ United-States (ANOVA): p-value = 0.0000\n"
          ]
        },
        {
          "output_type": "stream",
          "name": "stderr",
          "text": [
            "/usr/local/lib/python3.12/dist-packages/scipy/stats/_axis_nan_policy.py:579: ConstantInputWarning: Each of the input arrays is constant; the F statistic is not defined or infinite\n",
            "  res = hypotest_fun_out(*samples, **kwds)\n"
          ]
        },
        {
          "output_type": "stream",
          "name": "stdout",
          "text": [
            "13 ↔ <=50K (T-test): p-value = 0.0000\n",
            "2174 ↔ State-gov (ANOVA): p-value = 0.0000\n",
            "2174 ↔ Bachelors (ANOVA): p-value = 0.0000\n",
            "2174 ↔ Never-married (ANOVA): p-value = 0.0002\n",
            "2174 ↔ Adm-clerical (ANOVA): p-value = 0.0000\n",
            "2174 ↔ Not-in-family (ANOVA): p-value = 0.0000\n",
            "2174 ↔ White (ANOVA): p-value = 0.0782\n",
            "2174 ↔ Male (T-test): p-value = 0.0000\n",
            "2174 ↔ United-States (ANOVA): p-value = 0.8613\n",
            "2174 ↔ <=50K (T-test): p-value = 0.0000\n",
            "0 ↔ State-gov (ANOVA): p-value = 0.0000\n",
            "0 ↔ Bachelors (ANOVA): p-value = 0.0000\n",
            "0 ↔ Never-married (ANOVA): p-value = 0.0000\n",
            "0 ↔ Adm-clerical (ANOVA): p-value = 0.0082\n",
            "0 ↔ Not-in-family (ANOVA): p-value = 0.0000\n",
            "0 ↔ White (ANOVA): p-value = 0.4240\n",
            "0 ↔ Male (T-test): p-value = 0.0001\n",
            "0 ↔ United-States (ANOVA): p-value = 0.7274\n",
            "0 ↔ <=50K (T-test): p-value = 0.0000\n",
            "40 ↔ State-gov (ANOVA): p-value = 0.0000\n",
            "40 ↔ Bachelors (ANOVA): p-value = 0.0000\n",
            "40 ↔ Never-married (ANOVA): p-value = 0.0000\n",
            "40 ↔ Adm-clerical (ANOVA): p-value = 0.0000\n",
            "40 ↔ Not-in-family (ANOVA): p-value = 0.0000\n",
            "40 ↔ White (ANOVA): p-value = 0.0000\n",
            "40 ↔ Male (T-test): p-value = 0.0000\n",
            "40 ↔ United-States (ANOVA): p-value = 0.0006\n",
            "40 ↔ <=50K (T-test): p-value = 0.0000\n"
          ]
        }
      ]
    },
    {
      "cell_type": "code",
      "source": [
        "# Correlation heatmap\n",
        "plt.figure(figsize=(10,6))\n",
        "sns.heatmap(df.select_dtypes(include=np.number).corr(), annot=True, cmap='coolwarm')\n",
        "plt.title('Numerical-Numerical Relationships (Correlation)')\n",
        "plt.show()"
      ],
      "metadata": {
        "colab": {
          "base_uri": "https://localhost:8080/",
          "height": 545
        },
        "id": "rLy2NBw2pVfw",
        "outputId": "6de8dd9d-e12f-4d99-986a-83746c969f1c"
      },
      "execution_count": 47,
      "outputs": [
        {
          "output_type": "display_data",
          "data": {
            "text/plain": [
              "<Figure size 1000x600 with 2 Axes>"
            ],
            "image/png": "[encoded data removed]"
          },
          "metadata": {}
        }
      ]
    },
    {
      "cell_type": "markdown",
      "source": [
        "##Handle Inconsistency (strip spaces, lower case)"
      ],
      "metadata": {
        "id": "ylnNkjL3pYqY"
      }
    },
    {
      "cell_type": "code",
      "source": [
        "# Remove extra spaces and make text consistent\n",
        "for col in df.select_dtypes(include='object').columns:\n",
        "    df[col] = df[col].str.strip().str.lower()"
      ],
      "metadata": {
        "id": "3WMoXKCSponh"
      },
      "execution_count": 48,
      "outputs": []
    },
    {
      "cell_type": "markdown",
      "source": [
        "##Normalize Numerical Columns"
      ],
      "metadata": {
        "id": "WqreIBgnpxRC"
      }
    },
    {
      "cell_type": "code",
      "source": [
        "\n",
        "scaler = MinMaxScaler()\n",
        "df[df.select_dtypes(include=np.number).columns] = scaler.fit_transform(df.select_dtypes(include=np.number))\n"
      ],
      "metadata": {
        "id": "hcDviGYjp0wk"
      },
      "execution_count": 49,
      "outputs": []
    }
  ]
}